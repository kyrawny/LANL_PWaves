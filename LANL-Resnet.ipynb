{
 "cells": [
  {
   "cell_type": "markdown",
   "metadata": {},
   "source": [
    "# LANL Earthquake Prediction Kaggle Competition 2019\n",
    "### Eric Yap, Joel Huang, Kyra Wang\n",
    "\n",
    "---\n",
    "\n",
    "In this notebook, we present our work for the LANL Earthquake Prediction Kaggle Competition 2019. The goal of this competition is to use seismic signals to predict the timing of laboratory earthquakes. The data comes from a well-known experimental set-up used to study earthquake physics. The `acoustic_data` input signal is used to predict the time remaining before the next laboratory earthquake (`time_to_failure`).\n",
    "\n",
    "The training data is a single, continuous segment of experimental data. The test data consists of a folder containing many small segments. The data within each test file is continuous, but the test files do not represent a continuous segment of the experiment; thus, the predictions cannot be assumed to follow the same regular pattern seen in the training file.\n",
    "\n",
    "For each `seg_id` in the test folder, we need to predict a single `time_to_failure` corresponding to the time between the last row of the segment and the next laboratory earthquake.\n",
    "\n",
    "---"
   ]
  },
  {
   "cell_type": "markdown",
   "metadata": {},
   "source": [
    "### Imports"
   ]
  },
  {
   "cell_type": "code",
   "execution_count": 18,
   "metadata": {},
   "outputs": [
    {
     "name": "stdout",
     "output_type": "stream",
     "text": [
      "Requirement already satisfied: torchsummary in /home/jupyterlab/.local/lib/python3.7/site-packages (1.5.1)\n"
     ]
    }
   ],
   "source": [
    "!pip install torchsummary --user"
   ]
  },
  {
   "cell_type": "code",
   "execution_count": 1,
   "metadata": {},
   "outputs": [],
   "source": [
    "from __future__ import print_function, division, absolute_import\n",
    "\n",
    "# Data wrangling imports\n",
    "import numpy as np\n",
    "import pandas as pd\n",
    "from scipy import signal\n",
    "from sklearn.preprocessing import StandardScaler\n",
    "\n",
    "# Utility imports\n",
    "import os\n",
    "import os.path\n",
    "import time\n",
    "import math\n",
    "import ast\n",
    "import copy\n",
    "from collections import OrderedDict\n",
    "from datetime import datetime\n",
    "from tqdm import tqdm\n",
    "from joblib import Parallel, delayed\n",
    "\n",
    "# Data visualization imports\n",
    "import matplotlib as mpl\n",
    "import matplotlib.pyplot as plt\n",
    "import matplotlib.ticker as tick\n",
    "import seaborn as sns\n",
    "from lr_finder import LRFinder\n",
    "\n",
    "# PyTorch imports\n",
    "import torch\n",
    "import torch.nn as nn\n",
    "import torch.nn.functional as F\n",
    "from torch.nn import Parameter\n",
    "from torch.nn.utils import weight_norm\n",
    "from torch.autograd import Variable, Function\n",
    "import torch.optim as optim\n",
    "import torch.utils.data as data\n",
    "from torchvision import transforms\n",
    "from torchsummary import summary"
   ]
  },
  {
   "cell_type": "code",
   "execution_count": 2,
   "metadata": {},
   "outputs": [],
   "source": [
    "# CUDA for PyTorch\n",
    "use_cuda = torch.cuda.is_available()\n",
    "device = torch.device(\"cuda:0\" if use_cuda else \"cpu\")\n",
    "\n",
    "torch.backends.cudnn.benchmark = True\n",
    "\n",
    "# Setting the seeds for reproducibility\n",
    "np.random.seed(42)\n",
    "if use_cuda:\n",
    "    torch.cuda.manual_seed_all(42)\n",
    "else:\n",
    "    torch.manual_seed_all(42)"
   ]
  },
  {
   "cell_type": "markdown",
   "metadata": {},
   "source": [
    "### Data preprocessing\n",
    "\n",
    "As the training data and the test data are formatted differently, we must either preprocess the data such that the formats of both sets are the same, or ensure that our model is capable of predicting on the two different formats. We went with the first option because it is less time consuming to implement.\n",
    "\n",
    "We did this by splitting the training data into segments the same size as the test data segments, i.e. 150000 data points each. Each segment is labeled with a single `time_to_failure` corresponding to the time between the last row of the segment and the next laboratory earthquake. We then put each of these segments into a single dataframe, and saved this as a pickle file to be used as our training data.\n",
    "\n",
    "Following this, we merged the separate test segments into another single dataframe, and saved this as a pickle file to be used as our test data.\n",
    "\n",
    "As the dataset is massive, we used Joblib to help run the functions as a pipeline jobs with parallel computing."
   ]
  },
  {
   "cell_type": "code",
   "execution_count": 3,
   "metadata": {},
   "outputs": [
    {
     "name": "stderr",
     "output_type": "stream",
     "text": [
      "4195it [01:50, 38.03it/s]                          \n",
      "100%|██████████| 2624/2624 [00:30<00:00, 86.78it/s]\n"
     ]
    }
   ],
   "source": [
    "class FeatureGenerator(object):\n",
    "    def __init__(self, dtype, n_jobs=1, chunk_size=None):\n",
    "        self.chunk_size = chunk_size\n",
    "        self.dtype = dtype\n",
    "        self.filename = None\n",
    "        self.n_jobs = n_jobs\n",
    "        self.test_files = []\n",
    "        if self.dtype == 'train':\n",
    "            self.filename = './data/train.csv'\n",
    "            self.total_data = int(629145481 / self.chunk_size)\n",
    "        else:\n",
    "            submission = pd.read_csv('./data/sample_submission.csv')\n",
    "            for seg_id in submission.seg_id.values:\n",
    "                self.test_files.append((seg_id, './data/test/' + seg_id + '.csv'))\n",
    "            self.total_data = int(len(submission))\n",
    "\n",
    "    def read_chunks(self):\n",
    "        if self.dtype == 'train':\n",
    "            iter_df = pd.read_csv(self.filename, iterator=True, chunksize=self.chunk_size,\n",
    "                                  dtype={'acoustic_data': np.int16, 'time_to_failure': np.float64})\n",
    "            for counter, df in enumerate(iter_df):\n",
    "                x = df.acoustic_data.values\n",
    "                y = df.time_to_failure.values[-1]\n",
    "                seg_id = 'train_' + str(counter)\n",
    "                yield seg_id, x, y\n",
    "        else:\n",
    "            for seg_id, f in self.test_files:\n",
    "                df = pd.read_csv(f, dtype={'acoustic_data': np.int16})\n",
    "                x = df.acoustic_data.values\n",
    "                yield seg_id, x, -999\n",
    "\n",
    "    def features(self, x, y, seg_id):\n",
    "        feature_dict = dict()\n",
    "        feature_dict['target'] = y\n",
    "        feature_dict['segment'] = x\n",
    "        feature_dict['seg_id'] = seg_id\n",
    "\n",
    "        # create features here\n",
    "        # for example:\n",
    "        # feature_dict['mean'] = np.mean(x)\n",
    "\n",
    "        return feature_dict\n",
    "\n",
    "    def generate(self):\n",
    "        feature_list = []\n",
    "        res = Parallel(n_jobs=self.n_jobs,\n",
    "                       backend='threading')(delayed(self.features)(x, y, s)\n",
    "                                            for s, x, y in tqdm(self.read_chunks(), total=self.total_data))\n",
    "        for r in res:\n",
    "            feature_list.append(r)\n",
    "        return pd.DataFrame(feature_list)\n",
    "\n",
    "\n",
    "training_fg = FeatureGenerator(dtype='train', n_jobs=4, chunk_size=150000)\n",
    "training_data = training_fg.generate()\n",
    "\n",
    "test_fg = FeatureGenerator(dtype='test', n_jobs=4, chunk_size=None)\n",
    "test_data = test_fg.generate()\n",
    "\n",
    "scaler = StandardScaler()\n",
    "for segment in training_data.segment:\n",
    "    scaler.partial_fit(segment.astype(float).reshape(-1, 1))\n",
    "\n",
    "training_data['segment'] = training_data['segment'].map(lambda x: scaler.transform(x.astype(float).reshape(-1, 1)).flatten())\n",
    "test_data['segment'] = test_data['segment'].map(lambda x: scaler.transform(x.astype(float).reshape(-1, 1)).flatten())\n",
    "\n",
    "training_data.to_pickle('./data/train_features.pkl')\n",
    "test_data.to_pickle('./data/test_features.pkl')"
   ]
  },
  {
   "cell_type": "code",
   "execution_count": 3,
   "metadata": {},
   "outputs": [
    {
     "data": {
      "text/html": [
       "<div>\n",
       "<style scoped>\n",
       "    .dataframe tbody tr th:only-of-type {\n",
       "        vertical-align: middle;\n",
       "    }\n",
       "\n",
       "    .dataframe tbody tr th {\n",
       "        vertical-align: top;\n",
       "    }\n",
       "\n",
       "    .dataframe thead th {\n",
       "        text-align: right;\n",
       "    }\n",
       "</style>\n",
       "<table border=\"1\" class=\"dataframe\">\n",
       "  <thead>\n",
       "    <tr style=\"text-align: right;\">\n",
       "      <th></th>\n",
       "      <th>seg_id</th>\n",
       "      <th>segment</th>\n",
       "      <th>target</th>\n",
       "    </tr>\n",
       "  </thead>\n",
       "  <tbody>\n",
       "    <tr>\n",
       "      <th>0</th>\n",
       "      <td>train_0</td>\n",
       "      <td>[0.6967899047904469, 0.13790730252484593, 0.32...</td>\n",
       "      <td>1.430797</td>\n",
       "    </tr>\n",
       "    <tr>\n",
       "      <th>1</th>\n",
       "      <td>train_1</td>\n",
       "      <td>[0.04476020214724577, 0.13790730252484593, 0.3...</td>\n",
       "      <td>1.391499</td>\n",
       "    </tr>\n",
       "    <tr>\n",
       "      <th>2</th>\n",
       "      <td>train_2</td>\n",
       "      <td>[0.04476020214724577, 0.04476020214724577, 0.3...</td>\n",
       "      <td>1.353196</td>\n",
       "    </tr>\n",
       "    <tr>\n",
       "      <th>3</th>\n",
       "      <td>train_3</td>\n",
       "      <td>[0.04476020214724577, -0.8867108016287559, -0....</td>\n",
       "      <td>1.313798</td>\n",
       "    </tr>\n",
       "    <tr>\n",
       "      <th>4</th>\n",
       "      <td>train_4</td>\n",
       "      <td>[0.6967899047904469, 0.13790730252484593, -0.0...</td>\n",
       "      <td>1.274400</td>\n",
       "    </tr>\n",
       "  </tbody>\n",
       "</table>\n",
       "</div>"
      ],
      "text/plain": [
       "    seg_id                                            segment    target\n",
       "0  train_0  [0.6967899047904469, 0.13790730252484593, 0.32...  1.430797\n",
       "1  train_1  [0.04476020214724577, 0.13790730252484593, 0.3...  1.391499\n",
       "2  train_2  [0.04476020214724577, 0.04476020214724577, 0.3...  1.353196\n",
       "3  train_3  [0.04476020214724577, -0.8867108016287559, -0....  1.313798\n",
       "4  train_4  [0.6967899047904469, 0.13790730252484593, -0.0...  1.274400"
      ]
     },
     "execution_count": 3,
     "metadata": {},
     "output_type": "execute_result"
    }
   ],
   "source": [
    "trainval_df = pd.read_pickle('./data/train_features.pkl')\n",
    "trainval_df = trainval_df[trainval_df.segment.map(len) == 150000]\n",
    "\n",
    "trainval_df.head()"
   ]
  },
  {
   "cell_type": "code",
   "execution_count": 4,
   "metadata": {},
   "outputs": [
    {
     "data": {
      "text/html": [
       "<div>\n",
       "<style scoped>\n",
       "    .dataframe tbody tr th:only-of-type {\n",
       "        vertical-align: middle;\n",
       "    }\n",
       "\n",
       "    .dataframe tbody tr th {\n",
       "        vertical-align: top;\n",
       "    }\n",
       "\n",
       "    .dataframe thead th {\n",
       "        text-align: right;\n",
       "    }\n",
       "</style>\n",
       "<table border=\"1\" class=\"dataframe\">\n",
       "  <thead>\n",
       "    <tr style=\"text-align: right;\">\n",
       "      <th></th>\n",
       "      <th>seg_id</th>\n",
       "      <th>segment</th>\n",
       "      <th>target</th>\n",
       "    </tr>\n",
       "  </thead>\n",
       "  <tbody>\n",
       "    <tr>\n",
       "      <th>0</th>\n",
       "      <td>seg_00030f</td>\n",
       "      <td>[-0.0483868982303544, -0.42097529974075504, -0...</td>\n",
       "      <td>-999</td>\n",
       "    </tr>\n",
       "    <tr>\n",
       "      <th>1</th>\n",
       "      <td>seg_0012b5</td>\n",
       "      <td>[0.04476020214724577, 0.32420150328004627, 0.3...</td>\n",
       "      <td>-999</td>\n",
       "    </tr>\n",
       "    <tr>\n",
       "      <th>2</th>\n",
       "      <td>seg_00184e</td>\n",
       "      <td>[0.32420150328004627, -0.23468109898555473, -0...</td>\n",
       "      <td>-999</td>\n",
       "    </tr>\n",
       "    <tr>\n",
       "      <th>3</th>\n",
       "      <td>seg_003339</td>\n",
       "      <td>[-0.23468109898555473, 0.13790730252484593, -0...</td>\n",
       "      <td>-999</td>\n",
       "    </tr>\n",
       "    <tr>\n",
       "      <th>4</th>\n",
       "      <td>seg_0042cc</td>\n",
       "      <td>[0.04476020214724577, -0.14153399860795457, -0...</td>\n",
       "      <td>-999</td>\n",
       "    </tr>\n",
       "  </tbody>\n",
       "</table>\n",
       "</div>"
      ],
      "text/plain": [
       "       seg_id                                            segment  target\n",
       "0  seg_00030f  [-0.0483868982303544, -0.42097529974075504, -0...    -999\n",
       "1  seg_0012b5  [0.04476020214724577, 0.32420150328004627, 0.3...    -999\n",
       "2  seg_00184e  [0.32420150328004627, -0.23468109898555473, -0...    -999\n",
       "3  seg_003339  [-0.23468109898555473, 0.13790730252484593, -0...    -999\n",
       "4  seg_0042cc  [0.04476020214724577, -0.14153399860795457, -0...    -999"
      ]
     },
     "execution_count": 4,
     "metadata": {},
     "output_type": "execute_result"
    }
   ],
   "source": [
    "test_df = pd.read_pickle('./data/test_features.pkl')\n",
    "\n",
    "test_df.head()"
   ]
  },
  {
   "cell_type": "markdown",
   "metadata": {},
   "source": [
    "At this point, we split the training data further into a 80/20 training/validation split. We then create dataloaders that will help load the data into the model in parallel using multiprocessing workers."
   ]
  },
  {
   "cell_type": "code",
   "execution_count": 5,
   "metadata": {},
   "outputs": [
    {
     "name": "stdout",
     "output_type": "stream",
     "text": [
      "Training data is 0.8001907486886027 of the data\n"
     ]
    }
   ],
   "source": [
    "msk = np.random.rand(len(trainval_df)) < 0.8\n",
    "train_df = trainval_df[msk]\n",
    "valid_df = trainval_df[~msk]\n",
    "\n",
    "train_df = train_df.reset_index(drop=True)\n",
    "valid_df = valid_df.reset_index(drop=True)\n",
    "\n",
    "print('Training data is {} of the data'.format(len(train_df)/len(trainval_df)))"
   ]
  },
  {
   "cell_type": "code",
   "execution_count": 6,
   "metadata": {},
   "outputs": [],
   "source": [
    "class LANL_Dataset(data.Dataset):\n",
    "    'Characterizes a dataset for PyTorch'\n",
    "    def __init__(self, df):\n",
    "        'Initialization'\n",
    "        self.seg_id = df['seg_id']\n",
    "        self.X = df['segment']\n",
    "        self.y = df['target']\n",
    "\n",
    "    def __len__(self):\n",
    "        'Denotes the total number of samples'\n",
    "        return len(self.y)\n",
    "\n",
    "    def __getitem__(self, index):\n",
    "        'Generates one sample of data'\n",
    "        # Load data and get label\n",
    "        seg_id = self.seg_id[index]\n",
    "        X = torch.from_numpy(self.X[index]).float().unsqueeze(0)\n",
    "        y = torch.from_numpy(np.array([self.y[index]])).float()\n",
    "        sample = {'seg_id': seg_id, 'X': X, 'y': y}\n",
    "\n",
    "        return sample\n",
    "    \n",
    "class LANL_Dataset_LR(data.Dataset):\n",
    "    'Characterizes a dataset for PyTorch'\n",
    "    def __init__(self, df):\n",
    "        'Initialization'\n",
    "        self.seg_id = df['seg_id']\n",
    "        self.X = df['segment']\n",
    "        self.y = df['target']\n",
    "\n",
    "    def __len__(self):\n",
    "        'Denotes the total number of samples'\n",
    "        return len(self.y)\n",
    "\n",
    "    def __getitem__(self, index):\n",
    "        'Generates one sample of data'\n",
    "        # Load data and get label\n",
    "        seg_id = self.seg_id[index]\n",
    "        X = torch.from_numpy(self.X[index]).float().unsqueeze(0)\n",
    "        y = torch.from_numpy(np.array([self.y[index]])).float()\n",
    "        sample = (X, y)\n",
    "\n",
    "        return sample"
   ]
  },
  {
   "cell_type": "markdown",
   "metadata": {},
   "source": [
    "### Defining the Model"
   ]
  },
  {
   "cell_type": "code",
   "execution_count": 7,
   "metadata": {},
   "outputs": [],
   "source": [
    "class LANL_Ressubblock(nn.Module):\n",
    "    \n",
    "    def __init__(self,\n",
    "                 in_channels,\n",
    "                 out_channels,\n",
    "                 kernel_size,\n",
    "                 padding):\n",
    "        super(LANL_Ressubblock, self).__init__()\n",
    "        self.conv = nn.Conv1d(in_channels, out_channels, kernel_size, padding=padding)\n",
    "        self.bn = nn.BatchNorm1d(out_channels)\n",
    "        \n",
    "    def forward(self, x):\n",
    "        x = self.conv(x)\n",
    "        x = self.bn(x)\n",
    "        return x\n",
    "    \n",
    "\n",
    "class LANL_Resblock(nn.Module):\n",
    "    \n",
    "    def __init__(self,\n",
    "                 in_channels,\n",
    "                 out_channels):\n",
    "        super(LANL_Resblock, self).__init__()\n",
    "        \n",
    "        self.subblocks = nn.Sequential(\n",
    "            LANL_Ressubblock(in_channels, out_channels, 7, 3),\n",
    "            nn.ReLU(),\n",
    "            LANL_Ressubblock(out_channels, out_channels, 5, 2),\n",
    "            nn.ReLU(),\n",
    "            LANL_Ressubblock(out_channels, out_channels, 3, 1)\n",
    "        )\n",
    "        \n",
    "        if (in_channels != out_channels):\n",
    "            self.shortcut = nn.Sequential(\n",
    "                nn.Conv1d(in_channels, out_channels, 1),\n",
    "                nn.BatchNorm1d(out_channels)\n",
    "            )\n",
    "        else:\n",
    "            self.shortcut = nn.BatchNorm1d(out_channels)\n",
    "\n",
    "        self.relu = nn.ReLU()\n",
    "\n",
    "    def forward(self, x):\n",
    "        x1 = self.subblocks(x)\n",
    "        x2 = self.shortcut(x)\n",
    "        x = x1 + x2\n",
    "        x = self.relu(x)\n",
    "        return x\n",
    "    \n",
    "    \n",
    "class LANL_Resnet(nn.Module):\n",
    "    \n",
    "    def __init__(self,\n",
    "                 n_output=1):\n",
    "        \n",
    "        super(LANL_Resnet, self).__init__()\n",
    "        self.blocks = nn.Sequential(\n",
    "            LANL_Resblock(1, 64),\n",
    "            LANL_Resblock(64, 128),\n",
    "            LANL_Resblock(128, 128)\n",
    "        )\n",
    "        \n",
    "        self.gap = nn.AdaptiveAvgPool1d(1)\n",
    "        self.fc = nn.Linear(128, n_output)\n",
    "\n",
    "    def forward(self, x):\n",
    "        x = self.blocks(x)\n",
    "        x = self.gap(x).squeeze(-1)\n",
    "        x = self.fc(x)\n",
    "        return x"
   ]
  },
  {
   "cell_type": "code",
   "execution_count": 8,
   "metadata": {},
   "outputs": [
    {
     "name": "stdout",
     "output_type": "stream",
     "text": [
      "----------------------------------------------------------------\n",
      "        Layer (type)               Output Shape         Param #\n",
      "================================================================\n",
      "            Conv1d-1           [-1, 64, 150000]             512\n",
      "       BatchNorm1d-2           [-1, 64, 150000]             128\n",
      "  LANL_Ressubblock-3           [-1, 64, 150000]               0\n",
      "              ReLU-4           [-1, 64, 150000]               0\n",
      "            Conv1d-5           [-1, 64, 150000]          20,544\n",
      "       BatchNorm1d-6           [-1, 64, 150000]             128\n",
      "  LANL_Ressubblock-7           [-1, 64, 150000]               0\n",
      "              ReLU-8           [-1, 64, 150000]               0\n",
      "            Conv1d-9           [-1, 64, 150000]          12,352\n",
      "      BatchNorm1d-10           [-1, 64, 150000]             128\n",
      " LANL_Ressubblock-11           [-1, 64, 150000]               0\n",
      "           Conv1d-12           [-1, 64, 150000]             128\n",
      "      BatchNorm1d-13           [-1, 64, 150000]             128\n",
      "             ReLU-14           [-1, 64, 150000]               0\n",
      "    LANL_Resblock-15           [-1, 64, 150000]               0\n",
      "           Conv1d-16          [-1, 128, 150000]          57,472\n",
      "      BatchNorm1d-17          [-1, 128, 150000]             256\n",
      " LANL_Ressubblock-18          [-1, 128, 150000]               0\n",
      "             ReLU-19          [-1, 128, 150000]               0\n",
      "           Conv1d-20          [-1, 128, 150000]          82,048\n",
      "      BatchNorm1d-21          [-1, 128, 150000]             256\n",
      " LANL_Ressubblock-22          [-1, 128, 150000]               0\n",
      "             ReLU-23          [-1, 128, 150000]               0\n",
      "           Conv1d-24          [-1, 128, 150000]          49,280\n",
      "      BatchNorm1d-25          [-1, 128, 150000]             256\n",
      " LANL_Ressubblock-26          [-1, 128, 150000]               0\n",
      "           Conv1d-27          [-1, 128, 150000]           8,320\n",
      "      BatchNorm1d-28          [-1, 128, 150000]             256\n",
      "             ReLU-29          [-1, 128, 150000]               0\n",
      "    LANL_Resblock-30          [-1, 128, 150000]               0\n",
      "           Conv1d-31          [-1, 128, 150000]         114,816\n",
      "      BatchNorm1d-32          [-1, 128, 150000]             256\n",
      " LANL_Ressubblock-33          [-1, 128, 150000]               0\n",
      "             ReLU-34          [-1, 128, 150000]               0\n",
      "           Conv1d-35          [-1, 128, 150000]          82,048\n",
      "      BatchNorm1d-36          [-1, 128, 150000]             256\n",
      " LANL_Ressubblock-37          [-1, 128, 150000]               0\n",
      "             ReLU-38          [-1, 128, 150000]               0\n",
      "           Conv1d-39          [-1, 128, 150000]          49,280\n",
      "      BatchNorm1d-40          [-1, 128, 150000]             256\n",
      " LANL_Ressubblock-41          [-1, 128, 150000]               0\n",
      "      BatchNorm1d-42          [-1, 128, 150000]             256\n",
      "             ReLU-43          [-1, 128, 150000]               0\n",
      "    LANL_Resblock-44          [-1, 128, 150000]               0\n",
      "AdaptiveAvgPool1d-45               [-1, 128, 1]               0\n",
      "           Linear-46                    [-1, 1]             129\n",
      "================================================================\n",
      "Total params: 479,489\n",
      "Trainable params: 479,489\n",
      "Non-trainable params: 0\n",
      "----------------------------------------------------------------\n",
      "Input size (MB): 0.57\n",
      "Forward/backward pass size (MB): 5346.68\n",
      "Params size (MB): 1.83\n",
      "Estimated Total Size (MB): 5349.08\n",
      "----------------------------------------------------------------\n"
     ]
    }
   ],
   "source": [
    "model = LANL_Resnet().to(device)\n",
    "summary(model, (1, 150000))"
   ]
  },
  {
   "cell_type": "code",
   "execution_count": 9,
   "metadata": {},
   "outputs": [
    {
     "name": "stdout",
     "output_type": "stream",
     "text": [
      "Learning rate search finished. See the graph with {finder_name}.plot()\n"
     ]
    },
    {
     "data": {
      "image/png": "[encoded data removed]",
      "text/plain": [
       "<Figure size 432x288 with 1 Axes>"
      ]
     },
     "metadata": {
      "needs_background": "light"
     },
     "output_type": "display_data"
    }
   ],
   "source": [
    "# Parameters\n",
    "params = {'batch_size': 1,\n",
    "          'shuffle': True,\n",
    "          'num_workers': 0}\n",
    "\n",
    "model = LANL_Resnet().to(device)\n",
    "optimizer = optim.Adam(model.parameters(), lr=1e-7)\n",
    "criterion = nn.L1Loss()\n",
    "dataloader_lr = data.DataLoader(LANL_Dataset_LR(train_df), **params)\n",
    "\n",
    "lr_find = LRFinder(model, optimizer, criterion)\n",
    "lr_find.range_test(dataloader_lr)\n",
    "lr_find.plot()\n",
    "lr_find.reset()"
   ]
  },
  {
   "cell_type": "code",
   "execution_count": 11,
   "metadata": {},
   "outputs": [],
   "source": [
    "def LANL_train(model,\n",
    "               dataloaders,\n",
    "               optimizer,\n",
    "               criterion=nn.L1Loss(),\n",
    "               num_epochs=100,\n",
    "               patience=15,\n",
    "               snapshot_path='./snapshots',\n",
    "               model_path='./models'):\n",
    "    \n",
    "    train_loss_hist = []\n",
    "    valid_loss_hist = []\n",
    "    \n",
    "    best_model_wts = copy.deepcopy(model.state_dict())\n",
    "    best_loss = -1\n",
    "    \n",
    "    early_stopping = False\n",
    "    early_stopping_count = 0\n",
    "    \n",
    "    scheduler = optim.lr_scheduler.ReduceLROnPlateau(optimizer, verbose=True, patience=3)\n",
    "    \n",
    "    for epoch in range(num_epochs):\n",
    "        if not early_stopping:\n",
    "            print('Epoch {}/{}'.format(epoch + 1, num_epochs))\n",
    "            print('-' * 10)\n",
    "\n",
    "            for phase in ['train', 'valid']:\n",
    "                if phase == 'train':\n",
    "                    model.train()\n",
    "                if phase == 'valid':\n",
    "                    model.eval()\n",
    "\n",
    "                running_loss = 0.0\n",
    "                \n",
    "                for idx, sample in enumerate(tqdm(dataloaders[phase], total=len(dataloaders[phase]))):\n",
    "                    X, y = sample['X'].float().to(device), sample['y'].float().to(device)\n",
    "\n",
    "                    optimizer.zero_grad()\n",
    "\n",
    "                    with torch.set_grad_enabled(phase == 'train'):\n",
    "                        output = model(X)\n",
    "                        loss = criterion(output, y)\n",
    "\n",
    "                        if phase == 'train':\n",
    "                            loss.backward()\n",
    "                            optimizer.step()\n",
    "\n",
    "                    running_loss += loss.item() * X.size(0)\n",
    "\n",
    "                epoch_loss = running_loss/len(dataloaders[phase].dataset)\n",
    "\n",
    "                print('{} loss: {:.6f}'.format(phase, epoch_loss))\n",
    "\n",
    "                if phase == 'train':\n",
    "                    train_loss_hist.append(epoch_loss)\n",
    "                if phase == 'valid':\n",
    "                    valid_loss_hist.append(epoch_loss)\n",
    "                    scheduler.step(epoch_loss)\n",
    "                    for param_group in optimizer.param_groups:\n",
    "                        print(param_group['lr'])\n",
    "                    if epoch_loss < best_loss or best_loss == -1:\n",
    "                        early_stopping_count = 0\n",
    "                        best_loss = epoch_loss\n",
    "                        best_model_wts = copy.deepcopy(model.state_dict())\n",
    "                        datetime_str = datetime.now().strftime(\"%Y%m%d-%H%M%S\")\n",
    "                        torch.save(best_model_wts, snapshot_path + '/snapshot_' + datetime_str + '_' + str(best_loss) + '.pt')\n",
    "                    else:\n",
    "                        early_stopping_count += 1\n",
    "                        print('Early stopping count at {} of {}'.format(early_stopping_count, patience))\n",
    "                        if early_stopping_count >= patience:\n",
    "                            early_stopping = True\n",
    "                            print('Out of patience, early stopping training')\n",
    "            \n",
    "            print()\n",
    "\n",
    "    print('Best validation loss: {:6f}'.format(best_loss))\n",
    "    \n",
    "    model.load_state_dict(best_model_wts)\n",
    "    datetime_str = datetime.now().strftime(\"%Y%m%d-%H%M%S\")\n",
    "    torch.save(best_model_wts, model_path + '/model_' + datetime_str + '_' + str(best_loss) + '.pt')\n",
    "    \n",
    "    return model, train_loss_hist, valid_loss_hist"
   ]
  },
  {
   "cell_type": "code",
   "execution_count": 12,
   "metadata": {},
   "outputs": [
    {
     "data": {
      "text/plain": [
       "torch.Size([2, 1, 150000])"
      ]
     },
     "execution_count": 12,
     "metadata": {},
     "output_type": "execute_result"
    }
   ],
   "source": [
    "# Parameters\n",
    "params = {'batch_size': 2,\n",
    "          'shuffle': True,\n",
    "          'num_workers': 0}\n",
    "\n",
    "datasets = {'train': LANL_Dataset(train_df),\n",
    "            'valid': LANL_Dataset(valid_df),\n",
    "            'test' : LANL_Dataset(test_df )}\n",
    "\n",
    "dataloaders = {phase: data.DataLoader(dataset, **params) for phase, dataset in datasets.items()}\n",
    "\n",
    "next(iter(dataloaders['train']))['X'].shape"
   ]
  },
  {
   "cell_type": "code",
   "execution_count": 13,
   "metadata": {},
   "outputs": [
    {
     "name": "stderr",
     "output_type": "stream",
     "text": [
      "  0%|          | 0/1678 [00:00<?, ?it/s]"
     ]
    },
    {
     "name": "stdout",
     "output_type": "stream",
     "text": [
      "Epoch 1/100\n",
      "----------\n"
     ]
    },
    {
     "name": "stderr",
     "output_type": "stream",
     "text": [
      "100%|██████████| 1678/1678 [16:17<00:00,  1.61it/s]\n",
      "  0%|          | 0/419 [00:00<?, ?it/s]"
     ]
    },
    {
     "name": "stdout",
     "output_type": "stream",
     "text": [
      "train loss: 2.877073\n"
     ]
    },
    {
     "name": "stderr",
     "output_type": "stream",
     "text": [
      "100%|██████████| 419/419 [01:25<00:00,  4.98it/s]\n",
      "  0%|          | 0/1678 [00:00<?, ?it/s]"
     ]
    },
    {
     "name": "stdout",
     "output_type": "stream",
     "text": [
      "valid loss: 37.907525\n",
      "0.1\n",
      "\n",
      "Epoch 2/100\n",
      "----------\n"
     ]
    },
    {
     "name": "stderr",
     "output_type": "stream",
     "text": [
      "100%|██████████| 1678/1678 [16:18<00:00,  1.70it/s]\n",
      "  0%|          | 0/419 [00:00<?, ?it/s]"
     ]
    },
    {
     "name": "stdout",
     "output_type": "stream",
     "text": [
      "train loss: 2.658757\n"
     ]
    },
    {
     "name": "stderr",
     "output_type": "stream",
     "text": [
      "100%|██████████| 419/419 [01:19<00:00,  5.36it/s]\n",
      "  0%|          | 0/1678 [00:00<?, ?it/s]"
     ]
    },
    {
     "name": "stdout",
     "output_type": "stream",
     "text": [
      "valid loss: 21.448591\n",
      "0.1\n",
      "\n",
      "Epoch 3/100\n",
      "----------\n"
     ]
    },
    {
     "name": "stderr",
     "output_type": "stream",
     "text": [
      "100%|██████████| 1678/1678 [16:12<00:00,  1.75it/s]\n",
      "  0%|          | 0/419 [00:00<?, ?it/s]"
     ]
    },
    {
     "name": "stdout",
     "output_type": "stream",
     "text": [
      "train loss: 2.508665\n"
     ]
    },
    {
     "name": "stderr",
     "output_type": "stream",
     "text": [
      "100%|██████████| 419/419 [01:20<00:00,  5.33it/s]\n",
      "  0%|          | 0/1678 [00:00<?, ?it/s]"
     ]
    },
    {
     "name": "stdout",
     "output_type": "stream",
     "text": [
      "valid loss: 3.055803\n",
      "0.1\n",
      "\n",
      "Epoch 4/100\n",
      "----------\n"
     ]
    },
    {
     "name": "stderr",
     "output_type": "stream",
     "text": [
      "100%|██████████| 1678/1678 [16:20<00:00,  1.77it/s]\n",
      "  0%|          | 0/419 [00:00<?, ?it/s]"
     ]
    },
    {
     "name": "stdout",
     "output_type": "stream",
     "text": [
      "train loss: 2.360420\n"
     ]
    },
    {
     "name": "stderr",
     "output_type": "stream",
     "text": [
      "100%|██████████| 419/419 [01:19<00:00,  5.24it/s]\n",
      "  0%|          | 0/1678 [00:00<?, ?it/s]"
     ]
    },
    {
     "name": "stdout",
     "output_type": "stream",
     "text": [
      "valid loss: 2.372118\n",
      "0.1\n",
      "\n",
      "Epoch 5/100\n",
      "----------\n"
     ]
    },
    {
     "name": "stderr",
     "output_type": "stream",
     "text": [
      "100%|██████████| 1678/1678 [16:11<00:00,  1.78it/s]\n",
      "  0%|          | 1/419 [00:00<01:20,  5.20it/s]"
     ]
    },
    {
     "name": "stdout",
     "output_type": "stream",
     "text": [
      "train loss: 2.323825\n"
     ]
    },
    {
     "name": "stderr",
     "output_type": "stream",
     "text": [
      "100%|██████████| 419/419 [01:20<00:00,  5.00it/s]\n",
      "  0%|          | 0/1678 [00:00<?, ?it/s]"
     ]
    },
    {
     "name": "stdout",
     "output_type": "stream",
     "text": [
      "valid loss: 24.577510\n",
      "0.1\n",
      "Early stopping count at 1 of 15\n",
      "\n",
      "Epoch 6/100\n",
      "----------\n"
     ]
    },
    {
     "name": "stderr",
     "output_type": "stream",
     "text": [
      "100%|██████████| 1678/1678 [16:04<00:00,  1.74it/s]\n",
      "  0%|          | 1/419 [00:00<01:18,  5.30it/s]"
     ]
    },
    {
     "name": "stdout",
     "output_type": "stream",
     "text": [
      "train loss: 2.313293\n"
     ]
    },
    {
     "name": "stderr",
     "output_type": "stream",
     "text": [
      "100%|██████████| 419/419 [01:20<00:00,  5.17it/s]\n",
      "  0%|          | 0/1678 [00:00<?, ?it/s]"
     ]
    },
    {
     "name": "stdout",
     "output_type": "stream",
     "text": [
      "valid loss: 2.275166\n",
      "0.1\n",
      "\n",
      "Epoch 7/100\n",
      "----------\n"
     ]
    },
    {
     "name": "stderr",
     "output_type": "stream",
     "text": [
      "100%|██████████| 1678/1678 [15:46<00:00,  1.80it/s]\n",
      "  0%|          | 1/419 [00:00<01:20,  5.21it/s]"
     ]
    },
    {
     "name": "stdout",
     "output_type": "stream",
     "text": [
      "train loss: 2.274237\n"
     ]
    },
    {
     "name": "stderr",
     "output_type": "stream",
     "text": [
      "100%|██████████| 419/419 [01:18<00:00,  5.32it/s]\n",
      "  0%|          | 0/1678 [00:00<?, ?it/s]"
     ]
    },
    {
     "name": "stdout",
     "output_type": "stream",
     "text": [
      "valid loss: 2.954918\n",
      "0.1\n",
      "Early stopping count at 1 of 15\n",
      "\n",
      "Epoch 8/100\n",
      "----------\n"
     ]
    },
    {
     "name": "stderr",
     "output_type": "stream",
     "text": [
      "100%|██████████| 1678/1678 [15:33<00:00,  1.80it/s]\n",
      "  0%|          | 1/419 [00:00<01:17,  5.40it/s]"
     ]
    },
    {
     "name": "stdout",
     "output_type": "stream",
     "text": [
      "train loss: 2.254730\n"
     ]
    },
    {
     "name": "stderr",
     "output_type": "stream",
     "text": [
      "100%|██████████| 419/419 [01:18<00:00,  5.31it/s]\n",
      "  0%|          | 0/1678 [00:00<?, ?it/s]"
     ]
    },
    {
     "name": "stdout",
     "output_type": "stream",
     "text": [
      "valid loss: 2.764751\n",
      "0.1\n",
      "Early stopping count at 2 of 15\n",
      "\n",
      "Epoch 9/100\n",
      "----------\n"
     ]
    },
    {
     "name": "stderr",
     "output_type": "stream",
     "text": [
      "100%|██████████| 1678/1678 [15:32<00:00,  1.80it/s]\n",
      "  0%|          | 1/419 [00:00<01:15,  5.51it/s]"
     ]
    },
    {
     "name": "stdout",
     "output_type": "stream",
     "text": [
      "train loss: 2.250993\n"
     ]
    },
    {
     "name": "stderr",
     "output_type": "stream",
     "text": [
      "100%|██████████| 419/419 [01:18<00:00,  5.36it/s]\n",
      "  0%|          | 0/1678 [00:00<?, ?it/s]"
     ]
    },
    {
     "name": "stdout",
     "output_type": "stream",
     "text": [
      "valid loss: 10.412195\n",
      "0.1\n",
      "Early stopping count at 3 of 15\n",
      "\n",
      "Epoch 10/100\n",
      "----------\n"
     ]
    },
    {
     "name": "stderr",
     "output_type": "stream",
     "text": [
      "100%|██████████| 1678/1678 [16:18<00:00,  1.70it/s]\n",
      "  0%|          | 1/419 [00:00<01:22,  5.09it/s]"
     ]
    },
    {
     "name": "stdout",
     "output_type": "stream",
     "text": [
      "train loss: 2.241751\n"
     ]
    },
    {
     "name": "stderr",
     "output_type": "stream",
     "text": [
      "100%|██████████| 419/419 [01:22<00:00,  5.07it/s]\n",
      "  0%|          | 0/1678 [00:00<?, ?it/s]"
     ]
    },
    {
     "name": "stdout",
     "output_type": "stream",
     "text": [
      "valid loss: 2.339761\n",
      "Epoch     9: reducing learning rate of group 0 to 1.0000e-02.\n",
      "0.010000000000000002\n",
      "Early stopping count at 4 of 15\n",
      "\n",
      "Epoch 11/100\n",
      "----------\n"
     ]
    },
    {
     "name": "stderr",
     "output_type": "stream",
     "text": [
      "100%|██████████| 1678/1678 [16:35<00:00,  1.69it/s]\n",
      "  0%|          | 0/419 [00:00<?, ?it/s]"
     ]
    },
    {
     "name": "stdout",
     "output_type": "stream",
     "text": [
      "train loss: 2.143728\n"
     ]
    },
    {
     "name": "stderr",
     "output_type": "stream",
     "text": [
      "100%|██████████| 419/419 [01:22<00:00,  5.05it/s]\n",
      "  0%|          | 0/1678 [00:00<?, ?it/s]"
     ]
    },
    {
     "name": "stdout",
     "output_type": "stream",
     "text": [
      "valid loss: 2.830859\n",
      "0.010000000000000002\n",
      "Early stopping count at 5 of 15\n",
      "\n",
      "Epoch 12/100\n",
      "----------\n"
     ]
    },
    {
     "name": "stderr",
     "output_type": "stream",
     "text": [
      "100%|██████████| 1678/1678 [16:31<00:00,  1.69it/s]\n",
      "  0%|          | 1/419 [00:00<01:21,  5.11it/s]"
     ]
    },
    {
     "name": "stdout",
     "output_type": "stream",
     "text": [
      "train loss: 2.149424\n"
     ]
    },
    {
     "name": "stderr",
     "output_type": "stream",
     "text": [
      "100%|██████████| 419/419 [01:21<00:00,  5.15it/s]\n",
      "  0%|          | 0/1678 [00:00<?, ?it/s]"
     ]
    },
    {
     "name": "stdout",
     "output_type": "stream",
     "text": [
      "valid loss: 3.221115\n",
      "0.010000000000000002\n",
      "Early stopping count at 6 of 15\n",
      "\n",
      "Epoch 13/100\n",
      "----------\n"
     ]
    },
    {
     "name": "stderr",
     "output_type": "stream",
     "text": [
      "100%|██████████| 1678/1678 [16:31<00:00,  1.69it/s]\n",
      "  0%|          | 0/419 [00:00<?, ?it/s]"
     ]
    },
    {
     "name": "stdout",
     "output_type": "stream",
     "text": [
      "train loss: 2.129137\n"
     ]
    },
    {
     "name": "stderr",
     "output_type": "stream",
     "text": [
      "100%|██████████| 419/419 [01:21<00:00,  5.16it/s]\n",
      "  0%|          | 0/1678 [00:00<?, ?it/s]"
     ]
    },
    {
     "name": "stdout",
     "output_type": "stream",
     "text": [
      "valid loss: 16.987411\n",
      "0.010000000000000002\n",
      "Early stopping count at 7 of 15\n",
      "\n",
      "Epoch 14/100\n",
      "----------\n"
     ]
    },
    {
     "name": "stderr",
     "output_type": "stream",
     "text": [
      "100%|██████████| 1678/1678 [16:31<00:00,  1.69it/s]\n",
      "  0%|          | 1/419 [00:00<01:21,  5.10it/s]"
     ]
    },
    {
     "name": "stdout",
     "output_type": "stream",
     "text": [
      "train loss: 2.117683\n"
     ]
    },
    {
     "name": "stderr",
     "output_type": "stream",
     "text": [
      "100%|██████████| 419/419 [01:21<00:00,  5.13it/s]\n",
      "  0%|          | 0/1678 [00:00<?, ?it/s]"
     ]
    },
    {
     "name": "stdout",
     "output_type": "stream",
     "text": [
      "valid loss: 2.816758\n",
      "Epoch    13: reducing learning rate of group 0 to 1.0000e-03.\n",
      "0.0010000000000000002\n",
      "Early stopping count at 8 of 15\n",
      "\n",
      "Epoch 15/100\n",
      "----------\n"
     ]
    },
    {
     "name": "stderr",
     "output_type": "stream",
     "text": [
      "100%|██████████| 1678/1678 [16:31<00:00,  1.69it/s]\n",
      "  0%|          | 1/419 [00:00<01:22,  5.08it/s]"
     ]
    },
    {
     "name": "stdout",
     "output_type": "stream",
     "text": [
      "train loss: 2.114887\n"
     ]
    },
    {
     "name": "stderr",
     "output_type": "stream",
     "text": [
      "100%|██████████| 419/419 [01:21<00:00,  5.17it/s]\n",
      "  0%|          | 0/1678 [00:00<?, ?it/s]"
     ]
    },
    {
     "name": "stdout",
     "output_type": "stream",
     "text": [
      "valid loss: 2.864149\n",
      "0.0010000000000000002\n",
      "Early stopping count at 9 of 15\n",
      "\n",
      "Epoch 16/100\n",
      "----------\n"
     ]
    },
    {
     "name": "stderr",
     "output_type": "stream",
     "text": [
      "100%|██████████| 1678/1678 [16:30<00:00,  1.68it/s]\n",
      "  0%|          | 0/419 [00:00<?, ?it/s]"
     ]
    },
    {
     "name": "stdout",
     "output_type": "stream",
     "text": [
      "train loss: 2.111694\n"
     ]
    },
    {
     "name": "stderr",
     "output_type": "stream",
     "text": [
      "100%|██████████| 419/419 [01:21<00:00,  5.14it/s]\n",
      "  0%|          | 0/1678 [00:00<?, ?it/s]"
     ]
    },
    {
     "name": "stdout",
     "output_type": "stream",
     "text": [
      "valid loss: 3.318504\n",
      "0.0010000000000000002\n",
      "Early stopping count at 10 of 15\n",
      "\n",
      "Epoch 17/100\n",
      "----------\n"
     ]
    },
    {
     "name": "stderr",
     "output_type": "stream",
     "text": [
      "100%|██████████| 1678/1678 [16:31<00:00,  1.69it/s]\n",
      "  0%|          | 1/419 [00:00<01:20,  5.19it/s]"
     ]
    },
    {
     "name": "stdout",
     "output_type": "stream",
     "text": [
      "train loss: 2.109157\n"
     ]
    },
    {
     "name": "stderr",
     "output_type": "stream",
     "text": [
      "100%|██████████| 419/419 [01:21<00:00,  5.12it/s]\n",
      "  0%|          | 0/1678 [00:00<?, ?it/s]"
     ]
    },
    {
     "name": "stdout",
     "output_type": "stream",
     "text": [
      "valid loss: 2.491905\n",
      "0.0010000000000000002\n",
      "Early stopping count at 11 of 15\n",
      "\n",
      "Epoch 18/100\n",
      "----------\n"
     ]
    },
    {
     "name": "stderr",
     "output_type": "stream",
     "text": [
      "100%|██████████| 1678/1678 [16:30<00:00,  1.69it/s]\n",
      "  0%|          | 1/419 [00:00<01:21,  5.16it/s]"
     ]
    },
    {
     "name": "stdout",
     "output_type": "stream",
     "text": [
      "train loss: 2.108067\n"
     ]
    },
    {
     "name": "stderr",
     "output_type": "stream",
     "text": [
      "100%|██████████| 419/419 [01:21<00:00,  5.14it/s]\n",
      "  0%|          | 0/1678 [00:00<?, ?it/s]"
     ]
    },
    {
     "name": "stdout",
     "output_type": "stream",
     "text": [
      "valid loss: 50.896138\n",
      "Epoch    17: reducing learning rate of group 0 to 1.0000e-04.\n",
      "0.00010000000000000003\n",
      "Early stopping count at 12 of 15\n",
      "\n",
      "Epoch 19/100\n",
      "----------\n"
     ]
    },
    {
     "name": "stderr",
     "output_type": "stream",
     "text": [
      "100%|██████████| 1678/1678 [16:31<00:00,  1.69it/s]\n",
      "  0%|          | 1/419 [00:00<01:22,  5.04it/s]"
     ]
    },
    {
     "name": "stdout",
     "output_type": "stream",
     "text": [
      "train loss: 2.100695\n"
     ]
    },
    {
     "name": "stderr",
     "output_type": "stream",
     "text": [
      "100%|██████████| 419/419 [01:21<00:00,  5.11it/s]\n",
      "  0%|          | 0/1678 [00:00<?, ?it/s]"
     ]
    },
    {
     "name": "stdout",
     "output_type": "stream",
     "text": [
      "valid loss: 3.659283\n",
      "0.00010000000000000003\n",
      "Early stopping count at 13 of 15\n",
      "\n",
      "Epoch 20/100\n",
      "----------\n"
     ]
    },
    {
     "name": "stderr",
     "output_type": "stream",
     "text": [
      "100%|██████████| 1678/1678 [16:34<00:00,  1.80it/s]\n",
      "  0%|          | 1/419 [00:00<01:22,  5.07it/s]"
     ]
    },
    {
     "name": "stdout",
     "output_type": "stream",
     "text": [
      "train loss: 2.111576\n"
     ]
    },
    {
     "name": "stderr",
     "output_type": "stream",
     "text": [
      "100%|██████████| 419/419 [01:19<00:00,  5.32it/s]\n",
      "  0%|          | 0/1678 [00:00<?, ?it/s]"
     ]
    },
    {
     "name": "stdout",
     "output_type": "stream",
     "text": [
      "valid loss: 11.696625\n",
      "0.00010000000000000003\n",
      "Early stopping count at 14 of 15\n",
      "\n",
      "Epoch 21/100\n",
      "----------\n"
     ]
    },
    {
     "name": "stderr",
     "output_type": "stream",
     "text": [
      "100%|██████████| 1678/1678 [15:45<00:00,  1.80it/s]\n",
      "  0%|          | 0/419 [00:00<?, ?it/s]"
     ]
    },
    {
     "name": "stdout",
     "output_type": "stream",
     "text": [
      "train loss: 2.105306\n"
     ]
    },
    {
     "name": "stderr",
     "output_type": "stream",
     "text": [
      "100%|██████████| 419/419 [01:18<00:00,  5.32it/s]"
     ]
    },
    {
     "name": "stdout",
     "output_type": "stream",
     "text": [
      "valid loss: 2.736949\n",
      "0.00010000000000000003\n",
      "Early stopping count at 15 of 15\n",
      "Out of patience, early stopping training\n",
      "\n",
      "Best validation loss: 2.275166\n"
     ]
    },
    {
     "name": "stderr",
     "output_type": "stream",
     "text": [
      "\n"
     ]
    }
   ],
   "source": [
    "model = LANL_Resnet().to(device)\n",
    "optimizer = optim.Adam(model.parameters(), lr=0.1)\n",
    "\n",
    "model, train_loss_hist, valid_loss_hist = LANL_train(model, dataloaders, optimizer)"
   ]
  },
  {
   "cell_type": "code",
   "execution_count": 16,
   "metadata": {},
   "outputs": [
    {
     "data": {
      "image/png": "[encoded data removed]",
      "text/plain": [
       "<Figure size 432x288 with 1 Axes>"
      ]
     },
     "metadata": {
      "needs_background": "light"
     },
     "output_type": "display_data"
    }
   ],
   "source": [
    "fig, ax1 = plt.subplots()\n",
    "\n",
    "ax1.set_xlabel('Epoch')\n",
    "ax1.set_ylabel('Loss')\n",
    "ax1.set_title('Loss against number of epochs')\n",
    "ax1.plot(train_loss_hist, 'r', label='Training Loss')\n",
    "ax1.plot(valid_loss_hist, 'g', label='Validation Loss')\n",
    "ax1.legend()\n",
    "\n",
    "plt.show()"
   ]
  },
  {
   "cell_type": "markdown",
   "metadata": {},
   "source": [
    "### Evaluating the model on the test data"
   ]
  },
  {
   "cell_type": "code",
   "execution_count": 20,
   "metadata": {},
   "outputs": [],
   "source": [
    "def LANL_test(model,\n",
    "              dataloaders,\n",
    "              submission_path='./submissions'):\n",
    "    predictions = {'seg_id': [], 'time_to_failure': []}\n",
    "    model.eval()\n",
    "    with torch.no_grad():\n",
    "        for idx, sample in enumerate(dataloaders['test']):\n",
    "                seg_id, X = sample['seg_id'], sample['X'].float().to(device)\n",
    "                output = model(X)\n",
    "                for i in range(X.size(0)):\n",
    "                    predictions['seg_id'].append(seg_id[i])\n",
    "                    predictions['time_to_failure'].append(output[i].item())\n",
    "    df = pd.DataFrame.from_dict(predictions)\n",
    "    datetime_str = datetime.now().strftime(\"%Y%m%d-%H%M%S\")\n",
    "    df.to_csv(submission_path + '/submission_' + datetime_str + '.csv', index=False)\n",
    "    return df"
   ]
  },
  {
   "cell_type": "code",
   "execution_count": 21,
   "metadata": {},
   "outputs": [
    {
     "data": {
      "text/html": [
       "<div>\n",
       "<style scoped>\n",
       "    .dataframe tbody tr th:only-of-type {\n",
       "        vertical-align: middle;\n",
       "    }\n",
       "\n",
       "    .dataframe tbody tr th {\n",
       "        vertical-align: top;\n",
       "    }\n",
       "\n",
       "    .dataframe thead th {\n",
       "        text-align: right;\n",
       "    }\n",
       "</style>\n",
       "<table border=\"1\" class=\"dataframe\">\n",
       "  <thead>\n",
       "    <tr style=\"text-align: right;\">\n",
       "      <th></th>\n",
       "      <th>seg_id</th>\n",
       "      <th>time_to_failure</th>\n",
       "    </tr>\n",
       "  </thead>\n",
       "  <tbody>\n",
       "    <tr>\n",
       "      <th>0</th>\n",
       "      <td>seg_5470ca</td>\n",
       "      <td>3.704945</td>\n",
       "    </tr>\n",
       "    <tr>\n",
       "      <th>1</th>\n",
       "      <td>seg_226e60</td>\n",
       "      <td>8.527987</td>\n",
       "    </tr>\n",
       "    <tr>\n",
       "      <th>2</th>\n",
       "      <td>seg_18d1d0</td>\n",
       "      <td>2.905787</td>\n",
       "    </tr>\n",
       "    <tr>\n",
       "      <th>3</th>\n",
       "      <td>seg_0b082e</td>\n",
       "      <td>9.472045</td>\n",
       "    </tr>\n",
       "    <tr>\n",
       "      <th>4</th>\n",
       "      <td>seg_0aa0fb</td>\n",
       "      <td>7.014781</td>\n",
       "    </tr>\n",
       "  </tbody>\n",
       "</table>\n",
       "</div>"
      ],
      "text/plain": [
       "       seg_id  time_to_failure\n",
       "0  seg_5470ca         3.704945\n",
       "1  seg_226e60         8.527987\n",
       "2  seg_18d1d0         2.905787\n",
       "3  seg_0b082e         9.472045\n",
       "4  seg_0aa0fb         7.014781"
      ]
     },
     "execution_count": 21,
     "metadata": {},
     "output_type": "execute_result"
    }
   ],
   "source": [
    "model.load_state_dict(torch.load('./snapshots/snapshot_20190421-203949_2.2751659748093327.pt'))\n",
    "predictions = LANL_test(model, dataloaders)\n",
    "predictions.head()"
   ]
  }
 ],
 "metadata": {
  "kernelspec": {
   "display_name": "Python 3",
   "language": "python",
   "name": "python3"
  },
  "language_info": {
   "codemirror_mode": {
    "name": "ipython",
    "version": 3
   },
   "file_extension": ".py",
   "mimetype": "text/x-python",
   "name": "python",
   "nbconvert_exporter": "python",
   "pygments_lexer": "ipython3",
   "version": "3.7.3"
  }
 },
 "nbformat": 4,
 "nbformat_minor": 2
}
